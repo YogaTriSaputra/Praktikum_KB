{
 "cells": [
  {
   "cell_type": "markdown",
   "id": "cba6fedd",
   "metadata": {},
   "source": [
    "# IMPORT LIBRARY"
   ]
  },
  {
   "cell_type": "code",
   "execution_count": 1,
   "id": "f9a4a1c6",
   "metadata": {},
   "outputs": [],
   "source": [
    "import tensorflow as tf\n",
    "import numpy as np"
   ]
  },
  {
   "cell_type": "markdown",
   "id": "e062e117",
   "metadata": {},
   "source": [
    "# Buatlah sebuah tensor dengan shape(5,5) dengan nilai random yang disimpan dalam variable random_tensor"
   ]
  },
  {
   "cell_type": "code",
   "execution_count": 2,
   "id": "ea0dcf6e",
   "metadata": {},
   "outputs": [
    {
     "name": "stdout",
     "output_type": "stream",
     "text": [
      "tf.Tensor(\n",
      "[[ 0.29629603 -0.03141323 -0.05471061  0.03763179  2.564978  ]\n",
      " [-0.6494583  -0.6845234   0.43688074  1.4897977  -0.2399326 ]\n",
      " [ 0.04981674  0.41748446  0.11580934  0.8780719   0.27877015]\n",
      " [-1.5849335   1.1436394   1.0639356   1.1304685   1.3247743 ]\n",
      " [ 2.1117373  -0.863544   -1.8417858   0.4749224  -0.9902795 ]], shape=(5, 5), dtype=float32)\n"
     ]
    }
   ],
   "source": [
    "random_tensor = tf.random.normal([5,5], mean=0, stddev=1, seed=4)\n",
    "print(random_tensor)"
   ]
  },
  {
   "cell_type": "markdown",
   "id": "3a2986aa",
   "metadata": {},
   "source": [
    "# Buatlah sebuah tensor dengan shape(5,5) dari sebuah list dengan nilai bilangan prima dalam variable prime_tensor"
   ]
  },
  {
   "cell_type": "code",
   "execution_count": 3,
   "id": "d7e8197f",
   "metadata": {},
   "outputs": [
    {
     "name": "stdout",
     "output_type": "stream",
     "text": [
      "tf.Tensor(\n",
      "[[  2.   3.   5.   7.  11.]\n",
      " [ 13.  17.  19.  23.  29.]\n",
      " [ 31.  37.  41.  43.  47.]\n",
      " [ 53.  59.  61.  71.  73.]\n",
      " [ 79.  83.  89.  97. 101.]], shape=(5, 5), dtype=float32)\n"
     ]
    }
   ],
   "source": [
    "prime = [[2, 3, 5, 7, 11],[13, 17, 19, 23, 29],[31, 37, 41, 43, 47],[53, 59, 61, 71, 73],[79, 83, 89, 97, 101]]\n",
    "\n",
    "prime_tensor = tf.constant(prime, dtype=tf.float32)\n",
    "print(prime_tensor)"
   ]
  },
  {
   "cell_type": "markdown",
   "id": "fefc57e1",
   "metadata": {},
   "source": [
    "# Tampilkan dimensi dari kedua variable tersebut"
   ]
  },
  {
   "cell_type": "code",
   "execution_count": 4,
   "id": "4d70e891",
   "metadata": {},
   "outputs": [
    {
     "name": "stdout",
     "output_type": "stream",
     "text": [
      "(5, 5)\n",
      "<class 'tensorflow.python.framework.ops.EagerTensor'>\n"
     ]
    }
   ],
   "source": [
    "#random tensor\n",
    "print(random_tensor.shape)\n",
    "print(type(random_tensor))"
   ]
  },
  {
   "cell_type": "code",
   "execution_count": 5,
   "id": "38a74665",
   "metadata": {},
   "outputs": [
    {
     "name": "stdout",
     "output_type": "stream",
     "text": [
      "(5, 5)\n",
      "<class 'tensorflow.python.framework.ops.EagerTensor'>\n"
     ]
    }
   ],
   "source": [
    "#prime tensor\n",
    "print(prime_tensor.shape)\n",
    "print(type(prime_tensor))"
   ]
  },
  {
   "cell_type": "markdown",
   "id": "a2b96725",
   "metadata": {},
   "source": [
    "# Tampilkan hasil dari perhitungan aritmetika 2 variable tersebut (Gunakan minimal 5 operator)"
   ]
  },
  {
   "cell_type": "code",
   "execution_count": 6,
   "id": "c1f6195a",
   "metadata": {},
   "outputs": [
    {
     "name": "stdout",
     "output_type": "stream",
     "text": [
      "tf.Tensor(\n",
      "[[  2.2962961   2.9685867   4.9452896   7.037632   13.564978 ]\n",
      " [ 12.350542   16.315477   19.43688    24.489798   28.760067 ]\n",
      " [ 31.049816   37.417484   41.11581    43.87807    47.27877  ]\n",
      " [ 51.415066   60.14364    62.063934   72.13047    74.324776 ]\n",
      " [ 81.11174    82.13646    87.15821    97.47492   100.00972  ]], shape=(5, 5), dtype=float32)\n"
     ]
    }
   ],
   "source": [
    "# Penjumlahan\n",
    "print(tf.add(random_tensor, prime_tensor))"
   ]
  },
  {
   "cell_type": "code",
   "execution_count": 7,
   "id": "b86b5fa3",
   "metadata": {},
   "outputs": [
    {
     "name": "stdout",
     "output_type": "stream",
     "text": [
      "tf.Tensor(\n",
      "[[  -1.703704    -3.0314133   -5.0547104   -6.962368    -8.435022 ]\n",
      " [ -13.649458   -17.684523   -18.56312    -21.510202   -29.239933 ]\n",
      " [ -30.950184   -36.582516   -40.88419    -42.12193    -46.72123  ]\n",
      " [ -54.584934   -57.85636    -59.936066   -69.86953    -71.675224 ]\n",
      " [ -76.88826    -83.86354    -90.84179    -96.52508   -101.99028  ]], shape=(5, 5), dtype=float32)\n"
     ]
    }
   ],
   "source": [
    "# Pengurangan\n",
    "print(tf.subtract(random_tensor, prime_tensor))"
   ]
  },
  {
   "cell_type": "code",
   "execution_count": 8,
   "id": "8fe62840",
   "metadata": {},
   "outputs": [
    {
     "name": "stdout",
     "output_type": "stream",
     "text": [
      "tf.Tensor(\n",
      "[[ 5.9259206e-01 -9.4239704e-02 -2.7355304e-01  2.6342255e-01\n",
      "   2.8214756e+01]\n",
      " [-8.4429579e+00 -1.1636898e+01  8.3007336e+00  3.4265347e+01\n",
      "  -6.9580455e+00]\n",
      " [ 1.5443188e+00  1.5446925e+01  4.7481828e+00  3.7757092e+01\n",
      "   1.3102197e+01]\n",
      " [-8.4001480e+01  6.7474724e+01  6.4900070e+01  8.0263260e+01\n",
      "   9.6708519e+01]\n",
      " [ 1.6682724e+02 -7.1674149e+01 -1.6391893e+02  4.6067471e+01\n",
      "  -1.0001823e+02]], shape=(5, 5), dtype=float32)\n"
     ]
    }
   ],
   "source": [
    "# Perkalian\n",
    "print(tf.multiply(random_tensor, prime_tensor))"
   ]
  },
  {
   "cell_type": "code",
   "execution_count": 9,
   "id": "446065e7",
   "metadata": {},
   "outputs": [
    {
     "name": "stdout",
     "output_type": "stream",
     "text": [
      "tf.Tensor(\n",
      "[[ 0.14814802 -0.01047108 -0.01094212  0.00537597  0.23317981]\n",
      " [-0.04995833 -0.04026608  0.02299372  0.06477381 -0.00827354]\n",
      " [ 0.00160699  0.01128336  0.00282462  0.02042028  0.00593128]\n",
      " [-0.02990441  0.01938372  0.01744157  0.01592209  0.01814759]\n",
      " [ 0.02673085 -0.01040414 -0.02069422  0.00489611 -0.00980475]], shape=(5, 5), dtype=float32)\n"
     ]
    }
   ],
   "source": [
    "# Pembagian\n",
    "print(tf.divide(random_tensor, prime_tensor))"
   ]
  },
  {
   "cell_type": "code",
   "execution_count": 10,
   "id": "b757592f",
   "metadata": {},
   "outputs": [
    {
     "name": "stdout",
     "output_type": "stream",
     "text": [
      "tf.Tensor(\n",
      "[[1.22798765e+00 9.66077745e-01 9.15712059e-01 1.07597589e+00\n",
      "  4.68974487e+02]\n",
      " [1.89034149e-01 1.43790081e-01 3.61961865e+00 1.06831421e+02\n",
      "  4.45782542e-01]\n",
      " [1.18657386e+00 4.51543760e+00 1.53735948e+00 2.71833363e+01\n",
      "  2.92503428e+00]\n",
      " [1.84985367e-03 1.05978119e+02 7.93370514e+01 1.23819550e+02\n",
      "  2.94091309e+02]\n",
      " [1.01692705e+04 2.20186990e-02 2.56827305e-04 8.78137207e+00\n",
      "  1.03552751e-02]], shape=(5, 5), dtype=float32)\n"
     ]
    }
   ],
   "source": [
    "# Pangkat\n",
    "print(tf.pow(prime_tensor,random_tensor))"
   ]
  },
  {
   "cell_type": "markdown",
   "id": "71e216c8",
   "metadata": {},
   "source": [
    "# Tampilkan nilai maksimal dan minimal dari variable random_tensor"
   ]
  },
  {
   "cell_type": "code",
   "execution_count": 11,
   "id": "72109065",
   "metadata": {},
   "outputs": [
    {
     "name": "stdout",
     "output_type": "stream",
     "text": [
      "2.564978\n"
     ]
    }
   ],
   "source": [
    "# Max\n",
    "print(tf.reduce_max(random_tensor).numpy())"
   ]
  },
  {
   "cell_type": "code",
   "execution_count": 12,
   "id": "412dd48b",
   "metadata": {},
   "outputs": [
    {
     "name": "stdout",
     "output_type": "stream",
     "text": [
      "-1.8417858\n"
     ]
    }
   ],
   "source": [
    "# Min\n",
    "print(tf.reduce_min(random_tensor).numpy())"
   ]
  },
  {
   "cell_type": "markdown",
   "id": "4945cc9a",
   "metadata": {},
   "source": [
    "# Tampilkan hasil dari penggabungan variable random_tensor dengan prime_tensor (concatenation)"
   ]
  },
  {
   "cell_type": "code",
   "execution_count": 13,
   "id": "62b0997c",
   "metadata": {},
   "outputs": [
    {
     "name": "stdout",
     "output_type": "stream",
     "text": [
      "tf.Tensor(\n",
      "[[ 2.9629603e-01 -3.1413235e-02 -5.4710608e-02  3.7631791e-02\n",
      "   2.5649779e+00]\n",
      " [-6.4945829e-01 -6.8452340e-01  4.3688074e-01  1.4897977e+00\n",
      "  -2.3993260e-01]\n",
      " [ 4.9816735e-02  4.1748446e-01  1.1580934e-01  8.7807190e-01\n",
      "   2.7877015e-01]\n",
      " [-1.5849335e+00  1.1436394e+00  1.0639356e+00  1.1304685e+00\n",
      "   1.3247743e+00]\n",
      " [ 2.1117373e+00 -8.6354399e-01 -1.8417858e+00  4.7492239e-01\n",
      "  -9.9027950e-01]\n",
      " [ 2.0000000e+00  3.0000000e+00  5.0000000e+00  7.0000000e+00\n",
      "   1.1000000e+01]\n",
      " [ 1.3000000e+01  1.7000000e+01  1.9000000e+01  2.3000000e+01\n",
      "   2.9000000e+01]\n",
      " [ 3.1000000e+01  3.7000000e+01  4.1000000e+01  4.3000000e+01\n",
      "   4.7000000e+01]\n",
      " [ 5.3000000e+01  5.9000000e+01  6.1000000e+01  7.1000000e+01\n",
      "   7.3000000e+01]\n",
      " [ 7.9000000e+01  8.3000000e+01  8.9000000e+01  9.7000000e+01\n",
      "   1.0100000e+02]], shape=(10, 5), dtype=float32)\n"
     ]
    }
   ],
   "source": [
    "# Kolom = 0\n",
    "print(tf.concat([random_tensor, prime_tensor], axis=0))"
   ]
  },
  {
   "cell_type": "code",
   "execution_count": 14,
   "id": "a25db2d9",
   "metadata": {},
   "outputs": [
    {
     "name": "stdout",
     "output_type": "stream",
     "text": [
      "tf.Tensor(\n",
      "[[ 2.9629603e-01 -3.1413235e-02 -5.4710608e-02  3.7631791e-02\n",
      "   2.5649779e+00  2.0000000e+00  3.0000000e+00  5.0000000e+00\n",
      "   7.0000000e+00  1.1000000e+01]\n",
      " [-6.4945829e-01 -6.8452340e-01  4.3688074e-01  1.4897977e+00\n",
      "  -2.3993260e-01  1.3000000e+01  1.7000000e+01  1.9000000e+01\n",
      "   2.3000000e+01  2.9000000e+01]\n",
      " [ 4.9816735e-02  4.1748446e-01  1.1580934e-01  8.7807190e-01\n",
      "   2.7877015e-01  3.1000000e+01  3.7000000e+01  4.1000000e+01\n",
      "   4.3000000e+01  4.7000000e+01]\n",
      " [-1.5849335e+00  1.1436394e+00  1.0639356e+00  1.1304685e+00\n",
      "   1.3247743e+00  5.3000000e+01  5.9000000e+01  6.1000000e+01\n",
      "   7.1000000e+01  7.3000000e+01]\n",
      " [ 2.1117373e+00 -8.6354399e-01 -1.8417858e+00  4.7492239e-01\n",
      "  -9.9027950e-01  7.9000000e+01  8.3000000e+01  8.9000000e+01\n",
      "   9.7000000e+01  1.0100000e+02]], shape=(5, 10), dtype=float32)\n"
     ]
    }
   ],
   "source": [
    "# Kolom = 1\n",
    "print(tf.concat([random_tensor, prime_tensor], axis=1))"
   ]
  },
  {
   "cell_type": "markdown",
   "id": "4142ad80",
   "metadata": {},
   "source": [
    "# Tampilkan hasil sorting dari kedua variable di atas. (descending)"
   ]
  },
  {
   "cell_type": "code",
   "execution_count": 15,
   "id": "bbab4263",
   "metadata": {},
   "outputs": [
    {
     "name": "stdout",
     "output_type": "stream",
     "text": [
      "tf.Tensor(\n",
      "[[ 2.564978    0.29629603  0.03763179 -0.03141323 -0.05471061]\n",
      " [ 1.4897977   0.43688074 -0.2399326  -0.6494583  -0.6845234 ]\n",
      " [ 0.8780719   0.41748446  0.27877015  0.11580934  0.04981674]\n",
      " [ 1.3247743   1.1436394   1.1304685   1.0639356  -1.5849335 ]\n",
      " [ 2.1117373   0.4749224  -0.863544   -0.9902795  -1.8417858 ]], shape=(5, 5), dtype=float32)\n"
     ]
    }
   ],
   "source": [
    "print(tf.sort(random_tensor, direction='DESCENDING'))"
   ]
  },
  {
   "cell_type": "code",
   "execution_count": 16,
   "id": "2782d49e",
   "metadata": {},
   "outputs": [
    {
     "name": "stdout",
     "output_type": "stream",
     "text": [
      "tf.Tensor(\n",
      "[[ 11.   7.   5.   3.   2.]\n",
      " [ 29.  23.  19.  17.  13.]\n",
      " [ 47.  43.  41.  37.  31.]\n",
      " [ 73.  71.  61.  59.  53.]\n",
      " [101.  97.  89.  83.  79.]], shape=(5, 5), dtype=float32)\n"
     ]
    }
   ],
   "source": [
    "print(tf.sort(prime_tensor, direction='DESCENDING'))"
   ]
  },
  {
   "cell_type": "code",
   "execution_count": null,
   "id": "b9d5d673",
   "metadata": {},
   "outputs": [],
   "source": []
  }
 ],
 "metadata": {
  "kernelspec": {
   "display_name": "Python 3 (ipykernel)",
   "language": "python",
   "name": "python3"
  },
  "language_info": {
   "codemirror_mode": {
    "name": "ipython",
    "version": 3
   },
   "file_extension": ".py",
   "mimetype": "text/x-python",
   "name": "python",
   "nbconvert_exporter": "python",
   "pygments_lexer": "ipython3",
   "version": "3.10.7"
  }
 },
 "nbformat": 4,
 "nbformat_minor": 5
}
